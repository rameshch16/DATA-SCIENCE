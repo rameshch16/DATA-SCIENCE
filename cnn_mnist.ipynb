{
  "nbformat": 4,
  "nbformat_minor": 0,
  "metadata": {
    "colab": {
      "name": "Untitled2.ipynb",
      "version": "0.3.2",
      "provenance": [],
      "collapsed_sections": [],
      "include_colab_link": true
    },
    "kernelspec": {
      "name": "python3",
      "display_name": "Python 3"
    }
  },
  "cells": [
    {
      "cell_type": "markdown",
      "metadata": {
        "id": "view-in-github",
        "colab_type": "text"
      },
      "source": [
        "<a href=\"https://colab.research.google.com/github/rameshch16/DATA-SCIENCE/blob/master/cnn_mnist.ipynb\" target=\"_parent\"><img src=\"https://colab.research.google.com/assets/colab-badge.svg\" alt=\"Open In Colab\"/></a>"
      ]
    },
    {
      "cell_type": "code",
      "metadata": {
        "id": "yu4pS5dQS9lD",
        "colab_type": "code",
        "colab": {}
      },
      "source": [
        "import keras\n",
        "from keras.datasets import mnist\n",
        "import numpy as np\n",
        "from keras.models import Sequential\n",
        "from keras.layers import Dense,Dropout,Flatten\n",
        "from keras.layers import Conv2D,MaxPooling2D\n",
        "from keras import backend as k"
      ],
      "execution_count": 0,
      "outputs": []
    },
    {
      "cell_type": "code",
      "metadata": {
        "id": "nbZwjKOiUXl8",
        "colab_type": "code",
        "colab": {}
      },
      "source": [
        "batch_size=128\n",
        "n_classes=10\n",
        "n_epoch=10\n",
        "\n",
        "#input image shape\n",
        "n_rows,n_cols=28,28\n",
        "\n",
        "#read and split the mnist data as train and test\n",
        "(x_train,y_train),(x_test,y_test)=mnist.load_data()\n"
      ],
      "execution_count": 0,
      "outputs": []
    },
    {
      "cell_type": "code",
      "metadata": {
        "id": "F0iW4Bw9Vbrh",
        "colab_type": "code",
        "colab": {
          "base_uri": "https://localhost:8080/",
          "height": 153
        },
        "outputId": "0725e790-94b6-411d-de1c-fb0a18e942ad"
      },
      "source": [
        "print(x_train.shape)\n",
        "print(x_train.astype)\n",
        "\n",
        "print(y_train.shape)\n",
        "print(y_train.astype)\n",
        "\n",
        "print(x_test.shape)\n",
        "print(x_test.astype)\n",
        "\n",
        "print(y_test.shape)\n",
        "print(y_test.astype)\n",
        "\n",
        "# first image with 28*28 \n",
        "#print(x_train[0])"
      ],
      "execution_count": 50,
      "outputs": [
        {
          "output_type": "stream",
          "text": [
            "(60000, 28, 28)\n",
            "<built-in method astype of numpy.ndarray object at 0x7fab3d9e7b20>\n",
            "(60000,)\n",
            "<built-in method astype of numpy.ndarray object at 0x7fab3d9e7d00>\n",
            "(10000, 28, 28)\n",
            "<built-in method astype of numpy.ndarray object at 0x7fab3d9e7d50>\n",
            "(10000,)\n",
            "<built-in method astype of numpy.ndarray object at 0x7fab3d9e7da0>\n"
          ],
          "name": "stdout"
        }
      ]
    },
    {
      "cell_type": "code",
      "metadata": {
        "id": "e_TXR04CXE1w",
        "colab_type": "code",
        "colab": {
          "base_uri": "https://localhost:8080/",
          "height": 68
        },
        "outputId": "bb10c5fc-c463-4176-981f-8cf0afeee053"
      },
      "source": [
        "print(x_train.shape[0])\n",
        "print(x_train.shape[1])\n",
        "print(x_train.shape[2])"
      ],
      "execution_count": 51,
      "outputs": [
        {
          "output_type": "stream",
          "text": [
            "60000\n",
            "28\n",
            "28\n"
          ],
          "name": "stdout"
        }
      ]
    },
    {
      "cell_type": "code",
      "metadata": {
        "id": "24inLNz0XYvR",
        "colab_type": "code",
        "colab": {
          "base_uri": "https://localhost:8080/",
          "height": 34
        },
        "outputId": "02693f1a-b88b-4618-a903-91e4c29f0a1a"
      },
      "source": [
        "\n",
        "print(k.image_data_format())\n",
        "if k.image_data_format() == 'channels_first':\n",
        "  x_train = x_train.reshape(x_train.shape[0],1,n_rows,n_cols)\n",
        "  x_test  = x_test.reshape(x_test.shape[0],1,n_rows,n_cols)\n",
        "  input_img_shape = (1,n_rows,n_cols)\n",
        "else:\n",
        "  x_train = x_train.reshape(x_train.shape[0],n_rows,n_cols,1)\n",
        "  x_test  = x_test.reshape(x_test.shape[0],n_rows,n_cols,1)\n",
        "  input_img_shape = (n_rows,n_cols,1)\n",
        "\n",
        "#convert type and then normalize input \n",
        "x_train = x_train.astype('float32')\n",
        "x_test = x_test.astype('float32')\n",
        "\n",
        "x_train /= 255;\n",
        "x_test /= 255;\n",
        "\n",
        "\n",
        "\n",
        "\n"
      ],
      "execution_count": 52,
      "outputs": [
        {
          "output_type": "stream",
          "text": [
            "channels_last\n"
          ],
          "name": "stdout"
        }
      ]
    },
    {
      "cell_type": "code",
      "metadata": {
        "id": "DVCwupJMaQ5e",
        "colab_type": "code",
        "colab": {
          "base_uri": "https://localhost:8080/",
          "height": 68
        },
        "outputId": "f4d99259-7e9c-40cc-8829-10431089a584"
      },
      "source": [
        "print(\"traing data shape\",x_train.shape)\n",
        "print(\"traing data size\",len(x_train))\n",
        "print(\"test data size\",len(x_test))\n",
        "#size will give mulitiplication aof all dimensions not length\n",
        "#print(\"traing data size\",x_test.size)"
      ],
      "execution_count": 53,
      "outputs": [
        {
          "output_type": "stream",
          "text": [
            "traing data shape (60000, 28, 28, 1)\n",
            "traing data size 60000\n",
            "test data size 10000\n"
          ],
          "name": "stdout"
        }
      ]
    },
    {
      "cell_type": "code",
      "metadata": {
        "id": "9xWw_8kUZyCv",
        "colab_type": "code",
        "colab": {}
      },
      "source": [
        "# first image after normalization\n",
        "#print(x_train[0])"
      ],
      "execution_count": 0,
      "outputs": []
    },
    {
      "cell_type": "code",
      "metadata": {
        "id": "qYcdt0TCa6EP",
        "colab_type": "code",
        "colab": {}
      },
      "source": [
        "#convert labels as categorical\n",
        "y_train = keras.utils.to_categorical(y_train,n_classes)\n",
        "y_test = keras.utils.to_categorical(y_test,n_classes)"
      ],
      "execution_count": 0,
      "outputs": []
    },
    {
      "cell_type": "code",
      "metadata": {
        "id": "FqdWLmsPbk0Q",
        "colab_type": "code",
        "colab": {
          "base_uri": "https://localhost:8080/",
          "height": 34
        },
        "outputId": "0e79c61d-d19c-4c3b-c5f0-435d16ccba68"
      },
      "source": [
        "#convert labels as 1d array of size 10 (example for 2 [0,0,1,0,0,0,0,0,0,0,0])\n",
        "print(y_train.shape)"
      ],
      "execution_count": 30,
      "outputs": [
        {
          "output_type": "stream",
          "text": [
            "(60000, 10)\n"
          ],
          "name": "stdout"
        }
      ]
    },
    {
      "cell_type": "code",
      "metadata": {
        "id": "bONz7oIVcJRP",
        "colab_type": "code",
        "colab": {
          "base_uri": "https://localhost:8080/",
          "height": 207
        },
        "outputId": "67f8307b-eb0a-4746-b923-07c70059ca95"
      },
      "source": [
        "model = Sequential()\n",
        "model.add(Conv2D(32,kernel_size=(3,3),activation='relu',input_shape=input_img_shape))\n",
        "model.add(Conv2D(64,(3,3),activation='relu'))\n",
        "\n",
        "model.add(MaxPooling2D(pool_size=(2,2)))\n",
        "\n",
        "model.add(Dropout(0.25))\n",
        "model.add(Flatten())\n",
        "\n",
        "model.add(Dense(128,activation='relu'))\n",
        "model.add(Dropout(0.5))\n",
        "\n",
        "model.add(Dense(10,activation='softmax'))\n",
        "\n",
        "model.compile(loss=keras.losses.categorical_crossentropy,optimizer=keras.optimizers.adadelta(),metrics=['accuracy'])\n",
        "\n",
        "model.fit(x_train,y_train,batch_size=128,epochs=2,verbose=1,validation_data=(x_test,y_test))\n",
        "\n",
        "score= model.evaluate(x_test,y_test,verbose=0)\n",
        "\n",
        "print(\"test loss\",score[0])\n",
        "print(\"test accuracy\",score[1])\n",
        "\n"
      ],
      "execution_count": 56,
      "outputs": [
        {
          "output_type": "stream",
          "text": [
            "WARNING:tensorflow:From /usr/local/lib/python3.6/dist-packages/tensorflow/python/ops/math_ops.py:3066: to_int32 (from tensorflow.python.ops.math_ops) is deprecated and will be removed in a future version.\n",
            "Instructions for updating:\n",
            "Use tf.cast instead.\n",
            "Train on 60000 samples, validate on 10000 samples\n",
            "Epoch 1/2\n",
            "60000/60000 [==============================] - 165s 3ms/step - loss: 0.2498 - acc: 0.9223 - val_loss: 0.0540 - val_acc: 0.9824\n",
            "Epoch 2/2\n",
            "60000/60000 [==============================] - 163s 3ms/step - loss: 0.0845 - acc: 0.9755 - val_loss: 0.0436 - val_acc: 0.9848\n",
            "test loss 0.04357295704029966\n",
            "test accuracy 0.9848\n"
          ],
          "name": "stdout"
        }
      ]
    },
    {
      "cell_type": "code",
      "metadata": {
        "id": "waa4s-DIhBu1",
        "colab_type": "code",
        "colab": {
          "base_uri": "https://localhost:8080/",
          "height": 34
        },
        "outputId": "e80c02c4-7bc1-4030-96c2-2cf6eb6245e7"
      },
      "source": [
        "img = x_test[130]\n",
        "#test_img = img.reshape((1,784))\n",
        "img_class = model.predict_classes(img.reshape((1,28, 28,1)))\n",
        "prediction = img_class[0]\n",
        "classname = img_class[0]\n",
        "print(\"Class: \",classname)"
      ],
      "execution_count": 57,
      "outputs": [
        {
          "output_type": "stream",
          "text": [
            "Class:  6\n"
          ],
          "name": "stdout"
        }
      ]
    },
    {
      "cell_type": "code",
      "metadata": {
        "id": "PNFls3VyoOVU",
        "colab_type": "code",
        "colab": {
          "base_uri": "https://localhost:8080/",
          "height": 286
        },
        "outputId": "838207dd-b485-4654-9086-e5ec267d7a72"
      },
      "source": [
        "import matplotlib.pyplot as plt\n",
        "two_d = (np.reshape(x_test[130], (28, 28)) * 255).astype(np.uint8)\n",
        "plt.imshow(two_d, interpolation='nearest')"
      ],
      "execution_count": 58,
      "outputs": [
        {
          "output_type": "execute_result",
          "data": {
            "text/plain": [
              "<matplotlib.image.AxesImage at 0x7fab38b57710>"
            ]
          },
          "metadata": {
            "tags": []
          },
          "execution_count": 58
        },
        {
          "output_type": "display_data",
          "data": {
            "image/png": "[encoded data removed]",
            "text/plain": [
              "<Figure size 432x288 with 1 Axes>"
            ]
          },
          "metadata": {
            "tags": []
          }
        }
      ]
    }
  ]
}